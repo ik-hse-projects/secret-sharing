{
 "cells": [
  {
   "cell_type": "code",
   "execution_count": 2,
   "id": "639bd605",
   "metadata": {},
   "outputs": [],
   "source": [
    "#%display latex\n",
    "\n",
    "from IPython.display import Markdown, Math\n",
    "from IPython.core.magic import register_cell_magic\n",
    "from sage.misc.latex import Latex\n",
    "from string import Template\n",
    "from random import choice\n",
    "\n",
    "@register_cell_magic\n",
    "def markdown(line, cell):\n",
    "    class CustomTemplate(Template):\n",
    "        delimiter = '#'\n",
    "    variables = {}\n",
    "    for k, v in globals().items():\n",
    "        pattern = '#' + k\n",
    "        if pattern not in cell:\n",
    "            continue\n",
    "        if isinstance(v, str) or isinstance(v, int) or isinstance(v, float):\n",
    "            variables[k] = v\n",
    "        else:\n",
    "            variables[k] = latex(v)\n",
    "    class MyTemplate(Template):\n",
    "        delimiter = '#'\n",
    "    #return Markdown(MyTemplate(cell).safe_substitute(**variables))\n",
    "    return print(MyTemplate(cell).safe_substitute(**variables))\n",
    "\n",
    "sage.misc.reset.EXCLUDE |= {'markdown', 'Template', 'Latex', 'Markdown', 'Math', 'choice'}"
   ]
  },
  {
   "cell_type": "code",
   "execution_count": 3,
   "id": "9e69ce69",
   "metadata": {},
   "outputs": [
    {
     "data": {
      "text/html": [
       "<script>\n",
       "    MathJax.Hub.Config({\n",
       "        TeX: {\n",
       "            Macros: {\n",
       "                ZZ: \"\\\\Bold{Z}\",\n",
       "                NN: \"\\\\Bold{N}\",\n",
       "                RR: \"\\\\Bold{R}\",\n",
       "                CC: \"\\\\Bold{C}\",\n",
       "                QQ: \"\\\\Bold{Q}\",\n",
       "                QQbar: \"\\\\overline{\\\\QQ}\",\n",
       "                GF: [\"\\\\Bold{F}_{#1}\",1],\n",
       "                Zp: [\"\\\\Bold{Z}_{#1}\",1],\n",
       "                Qp: [\"\\\\Bold{Q}_{#1}\",1],\n",
       "                Zmod: [\"\\\\ZZ/#1\\\\ZZ\",1],\n",
       "                CDF: \"\\\\Bold{C}\",\n",
       "                CIF: \"\\\\Bold{C}\",\n",
       "                CLF: \"\\\\Bold{C}\",\n",
       "                RDF: \"\\\\Bold{R}\",\n",
       "                RIF: \"\\\\Bold{I} \\\\Bold{R}\",\n",
       "                RLF: \"\\\\Bold{R}\",\n",
       "                Bold: [\"\\\\mathbf{#1}\",1]\n",
       "            }\n",
       "        },\n",
       "        displayAlign: 'left',\n",
       "    });\n",
       "    MathJax.Hub.Configured();\n",
       "    MathJax.Hub.Queue([\"Typeset\",MathJax.Hub]);\n",
       "</script>\n"
      ],
      "text/plain": [
       "<IPython.core.display.HTML object>"
      ]
     },
     "metadata": {},
     "output_type": "display_data"
    }
   ],
   "source": [
    "%%html\n",
    "<script>\n",
    "    MathJax.Hub.Config({\n",
    "        TeX: {\n",
    "            Macros: {\n",
    "                ZZ: \"\\\\Bold{Z}\",\n",
    "                NN: \"\\\\Bold{N}\",\n",
    "                RR: \"\\\\Bold{R}\",\n",
    "                CC: \"\\\\Bold{C}\",\n",
    "                QQ: \"\\\\Bold{Q}\",\n",
    "                QQbar: \"\\\\overline{\\\\QQ}\",\n",
    "                GF: [\"\\\\Bold{F}_{#1}\",1],\n",
    "                Zp: [\"\\\\Bold{Z}_{#1}\",1],\n",
    "                Qp: [\"\\\\Bold{Q}_{#1}\",1],\n",
    "                Zmod: [\"\\\\ZZ/#1\\\\ZZ\",1],\n",
    "                CDF: \"\\\\Bold{C}\",\n",
    "                CIF: \"\\\\Bold{C}\",\n",
    "                CLF: \"\\\\Bold{C}\",\n",
    "                RDF: \"\\\\Bold{R}\",\n",
    "                RIF: \"\\\\Bold{I} \\\\Bold{R}\",\n",
    "                RLF: \"\\\\Bold{R}\",\n",
    "                Bold: [\"\\\\mathbf{#1}\",1]\n",
    "            }\n",
    "        },\n",
    "        displayAlign: 'left',\n",
    "    });\n",
    "    MathJax.Hub.Configured();\n",
    "    MathJax.Hub.Queue([\"Typeset\",MathJax.Hub]);\n",
    "</script>"
   ]
  },
  {
   "cell_type": "markdown",
   "id": "0042da02",
   "metadata": {},
   "source": [
    "# Задание 1"
   ]
  },
  {
   "cell_type": "code",
   "execution_count": 63,
   "id": "edfc254d",
   "metadata": {},
   "outputs": [],
   "source": [
    "reset()\n",
    "n = randint(3,5)\n",
    "p = random_prime(50, lbound=10)\n",
    "q = randint(2,4)"
   ]
  },
  {
   "cell_type": "code",
   "execution_count": 80,
   "id": "45b07b0c",
   "metadata": {},
   "outputs": [
    {
     "data": {
      "text/plain": [
       "Univariate Quotient Polynomial Ring in x over Ring of integers modulo 29 with modulus x^3"
      ]
     },
     "execution_count": 80,
     "metadata": {},
     "output_type": "execute_result"
    }
   ],
   "source": [
    "# Факторкольцо Z_p[x] / < x^q >\n",
    "F = PolynomialRing(Integers(p), 'x')\n",
    "I = F.ideal(x^(q+1))\n",
    "F = F.quotient(I, names=['x'])\n",
    "F"
   ]
  },
  {
   "cell_type": "code",
   "execution_count": 81,
   "id": "83b58de8",
   "metadata": {},
   "outputs": [],
   "source": [
    "s = F.random_element()\n",
    "pieces = [F.random_element() for i in range(n-1)]\n",
    "pieces.append(s - sum(pieces))\n",
    "assert sum(pieces) == s\n",
    "\n",
    "tex = [f's = {latex(s)}'] + [f'v_{{{i}}} = {latex(p)}' for i, p in enumerate(pieces, 1)]"
   ]
  },
  {
   "cell_type": "code",
   "execution_count": 82,
   "id": "12b7434a",
   "metadata": {},
   "outputs": [],
   "source": [
    "unknown = choice(tex)\n",
    "known = [i for i in tex if i != unknown]\n",
    "assert len(known) == n\n",
    "to_find = unknown.split(' = ')[0]"
   ]
  },
  {
   "cell_type": "code",
   "execution_count": 83,
   "id": "d8fc7036",
   "metadata": {},
   "outputs": [],
   "source": [
    "known = '\\n'.join(f'{n}. $ {i} $' for n, i in enumerate(known, 1))"
   ]
  },
  {
   "cell_type": "code",
   "execution_count": 84,
   "id": "8ece9ef9",
   "metadata": {},
   "outputs": [
    {
     "name": "stdout",
     "output_type": "stream",
     "text": [
      "Секрет разделён при помощи простейшей $(n,n)$-схемы, $n = 3$. Необходимо его восстановить.\n",
      "В качестве поля используется кольцо многочленов степени не выше $2$ над кольцом $\\ZZ_{29}$\n",
      "\n",
      "**Дано**:\n",
      "1. $ v_{1} = 3 x^{2} + 6 x + 10 $\n",
      "2. $ v_{2} = 3 x^{2} + 20 x + 1 $\n",
      "3. $ v_{3} = 4 x^{2} + 25 x + 27 $\n",
      "\n",
      "**Найти**: $ s $\n",
      "\n",
      "**Ответ**: $ s = 10 x^{2} + 22 x + 9 $\n",
      "\n"
     ]
    }
   ],
   "source": [
    "%%markdown\n",
    "Секрет разделён при помощи простейшей $(n,n)$-схемы, $n = #n$. Необходимо его восстановить.\n",
    "В качестве поля используется кольцо многочленов степени не выше $#q$ над кольцом $\\ZZ_{#p}$\n",
    "\n",
    "**Дано**:\n",
    "#known\n",
    "\n",
    "**Найти**: $ #to_find $\n",
    "\n",
    "**Ответ**: $ #unknown $"
   ]
  },
  {
   "cell_type": "markdown",
   "id": "78905ced",
   "metadata": {},
   "source": [
    "# Задание 2"
   ]
  },
  {
   "cell_type": "code",
   "execution_count": 100,
   "id": "6c94a6b3",
   "metadata": {},
   "outputs": [
    {
     "data": {
      "text/plain": [
       "((3, 5), Vector space of dimension 3 over Ring of integers modulo 13, 12)"
      ]
     },
     "execution_count": 100,
     "metadata": {},
     "output_type": "execute_result"
    }
   ],
   "source": [
    "reset()\n",
    "k = randint(3,4)\n",
    "n = randint(k,k+2)\n",
    "p = random_prime(50, lbound=10)\n",
    "\n",
    "F = Integers(p)\n",
    "V = F^k\n",
    "\n",
    "s = F.random_element()\n",
    "((k, n), V, s)"
   ]
  },
  {
   "cell_type": "code",
   "execution_count": 101,
   "id": "9fc149ec",
   "metadata": {},
   "outputs": [],
   "source": [
    "point = V.random_element()\n",
    "point[0] = s\n",
    "\n",
    "pieces = []\n",
    "planes = []\n",
    "system = []\n",
    "for i in range(n):\n",
    "    A = V.random_element()\n",
    "    b = A * point\n",
    "    pieces.append(list(A) + [b])\n",
    "    planes.append(f'{latex(A.row())} \\\\vec{{x}} = {latex(b)}')\n",
    "    system.append((A, [b]))\n",
    "\n",
    "pieces = '\\n'.join(f'{n}. $ {latex(i)} $' for n, i in enumerate(pieces, 1))\n",
    "planes = '\\n'.join(f'{n}. $ {i} $' for n, i in enumerate(planes, 1))\n",
    "\n",
    "participants = sample(system, k)\n",
    "left, right = list(zip(*participants))\n",
    "left, right = matrix(left), matrix(right)\n",
    "sol = left.solve_right(right)\n",
    "assert sol[0,0] == s\n",
    "slau = f'{latex(left)} \\\\vec{{x}} = {latex(right)}'"
   ]
  },
  {
   "cell_type": "code",
   "execution_count": 102,
   "id": "b0058ed1",
   "metadata": {},
   "outputs": [
    {
     "name": "stdout",
     "output_type": "stream",
     "text": [
      "1. Необходимо разделить секрет $s = 12, s \\in \\ZZ_{13}$ между $5$ участниками так, чтобы любые $3$ могли его восстановить. Выпишите, что каждый участник знает.\n",
      "2. Затем выбрать любых $3$ участников и восстановить секрет обратно.\n",
      "\n",
      "Нужно использовать схему Блэкли.\n",
      "\n",
      "**Авторское решение:**\n",
      "\n",
      "Секрет поместим в точку $\\left(12,\\,6,\\,3\\right)$. Он находится в первой её координате.\n",
      "\n",
      "Проведём через эту точку плоскости. Здесь и далее $\\vec{x}$ - вектор-столбец\n",
      "1. $ \\left(\\begin{array}{rrr}\n",
      "12 & 0 & 4\n",
      "\\end{array}\\right) \\vec{x} = 0 $\n",
      "2. $ \\left(\\begin{array}{rrr}\n",
      "3 & 11 & 3\n",
      "\\end{array}\\right) \\vec{x} = 7 $\n",
      "3. $ \\left(\\begin{array}{rrr}\n",
      "4 & 7 & 5\n",
      "\\end{array}\\right) \\vec{x} = 1 $\n",
      "4. $ \\left(\\begin{array}{rrr}\n",
      "12 & 12 & 4\n",
      "\\end{array}\\right) \\vec{x} = 7 $\n",
      "5. $ \\left(\\begin{array}{rrr}\n",
      "11 & 11 & 3\n",
      "\\end{array}\\right) \\vec{x} = 12 $\n",
      "\n",
      "Тогда каждый участник обладает следующим набором чисел:\n",
      "1. $ \\left[12, 0, 4, 0\\right] $\n",
      "2. $ \\left[3, 11, 3, 7\\right] $\n",
      "3. $ \\left[4, 7, 5, 1\\right] $\n",
      "4. $ \\left[12, 12, 4, 7\\right] $\n",
      "5. $ \\left[11, 11, 3, 12\\right] $\n",
      "\n",
      "Чтобы восстановить секрет достаточно решить СЛАУ, после чего извлечь секрет из первой координаты.\n",
      "$$ \\left(\\begin{array}{rrr}\n",
      "4 & 7 & 5 \\\\\n",
      "3 & 11 & 3 \\\\\n",
      "11 & 11 & 3\n",
      "\\end{array}\\right) \\vec{x} = \\left(\\begin{array}{r}\n",
      "1 \\\\\n",
      "7 \\\\\n",
      "12\n",
      "\\end{array}\\right) \\implies \\vec{x} = \\left(\\begin{array}{r}\n",
      "12 \\\\\n",
      "6 \\\\\n",
      "3\n",
      "\\end{array}\\right) \\implies s = 12 $$\n",
      "\n"
     ]
    }
   ],
   "source": [
    "%%markdown\n",
    "1. Необходимо разделить секрет $s = #s, s \\in \\ZZ_{#p}$ между $#n$ участниками так, чтобы любые $#k$ могли его восстановить. Выпишите, что каждый участник знает.\n",
    "2. Затем выбрать любых $#k$ участников и восстановить секрет обратно.\n",
    "\n",
    "Нужно использовать схему Блэкли.\n",
    "\n",
    "**Авторское решение:**\n",
    "\n",
    "Секрет поместим в точку $#point$. Он находится в первой её координате.\n",
    "\n",
    "Проведём через эту точку плоскости. Здесь и далее $\\vec{x}$ - вектор-столбец\n",
    "#planes\n",
    "\n",
    "Тогда каждый участник обладает следующим набором чисел:\n",
    "#pieces\n",
    "\n",
    "Чтобы восстановить секрет достаточно решить СЛАУ, после чего извлечь секрет из первой координаты.\n",
    "$$ #slau \\implies \\vec{x} = #sol \\implies s = #s $$"
   ]
  },
  {
   "cell_type": "markdown",
   "id": "e57c53c6",
   "metadata": {},
   "source": [
    "# Фикс задания 3"
   ]
  },
  {
   "cell_type": "code",
   "execution_count": 3,
   "id": "631874e6",
   "metadata": {},
   "outputs": [],
   "source": [
    "reset()\n",
    "pieces = [\n",
    "    ((30, 3), 33),\n",
    "    ((38, 16), 8),\n",
    "    ((33, 41), 31),\n",
    "    ((38, 25), 23),\n",
    "    ((22, 5), 36),\n",
    "]\n",
    "# 11, 13, 17, 19, 23, 29, 31, 37, 41, 43, 47,\n",
    "p = 8200\n",
    "\n",
    "n, k = 5, 2\n",
    "F = Integers(p)\n",
    "V = F^k\n",
    "pieces = [(V(i), j) for i, j in pieces]"
   ]
  },
  {
   "cell_type": "code",
   "execution_count": 5,
   "id": "19a2e69e",
   "metadata": {},
   "outputs": [
    {
     "data": {
      "text/plain": [
       "[1144, 4460, 5571, None, None, 3596, 2028, 4296, 6633, None]"
      ]
     },
     "execution_count": 5,
     "metadata": {},
     "output_type": "execute_result"
    }
   ],
   "source": [
    "results = []\n",
    "for i in range(len(pieces)):\n",
    "    A1, b1 = pieces[i]\n",
    "    for j in range(i+1, len(pieces)):\n",
    "        A2, b2 = pieces[j]\n",
    "\n",
    "        A = matrix([A1, A2])\n",
    "        b = matrix([[b1], [b2]])\n",
    "        try:\n",
    "            sol = A.solve_right(b)\n",
    "        except:\n",
    "            sol = None\n",
    "\n",
    "        if sol is not None:\n",
    "            assert (A1 * sol)[0] == b1\n",
    "            assert (A2 * sol)[0] == b2\n",
    "\n",
    "            secret = sol[0,0]\n",
    "            results.append(secret)\n",
    "        else:\n",
    "            results.append(None)\n",
    "\n",
    "results"
   ]
  },
  {
   "cell_type": "markdown",
   "id": "eaee306a",
   "metadata": {},
   "source": [
    "## Задание 3"
   ]
  },
  {
   "cell_type": "code",
   "execution_count": 1,
   "id": "576223da",
   "metadata": {},
   "outputs": [
    {
     "data": {
      "text/plain": [
       "(Vector space of dimension 2 over Ring of integers modulo 17, 2)"
      ]
     },
     "execution_count": 1,
     "metadata": {},
     "output_type": "execute_result"
    }
   ],
   "source": [
    "reset()\n",
    "p = random_prime(50, lbound=10)\n",
    "n = 5\n",
    "k = 2\n",
    "\n",
    "F = Integers(p)\n",
    "V = F^k\n",
    "\n",
    "s = F.random_element()\n",
    "(V, s)"
   ]
  },
  {
   "cell_type": "code",
   "execution_count": 2,
   "id": "c7561240",
   "metadata": {},
   "outputs": [
    {
     "data": {
      "text/plain": [
       "[((7, 6), 3), ((9, 13), 6), ((3, 11), 0), ((4, 12), 3), ((4, 16), 7)]"
      ]
     },
     "execution_count": 2,
     "metadata": {},
     "output_type": "execute_result"
    }
   ],
   "source": [
    "point = V.random_element()\n",
    "point[0] = s\n",
    "\n",
    "pieces = []\n",
    "for i in range(n):\n",
    "    A = V.random_element()\n",
    "    b = A * point\n",
    "    pieces.append((A, b))\n",
    "\n",
    "invalid = (V.random_element(), F.random_element())\n",
    "pieces[0] = invalid\n",
    "shuffle(pieces)\n",
    "\n",
    "task = '\\n'.join(f'{n}. ${i[0][0]}x_1 + {i[0][1]}x_2 = {i[1]}$' for n, i in enumerate(pieces, 1))\n",
    "pieces"
   ]
  },
  {
   "cell_type": "code",
   "execution_count": 3,
   "id": "543c8351",
   "metadata": {},
   "outputs": [
    {
     "data": {
      "text/plain": [
       "[1, 2, 2, 2, 13, 10, 8, 2, 2, 2]"
      ]
     },
     "execution_count": 3,
     "metadata": {},
     "output_type": "execute_result"
    }
   ],
   "source": [
    "tex = []\n",
    "results = []\n",
    "for i in range(len(pieces)):\n",
    "    A1, b1 = pieces[i]\n",
    "    for j in range(i+1, len(pieces)):\n",
    "        A2, b2 = pieces[j]\n",
    "\n",
    "        A = matrix([A1, A2])\n",
    "        b = matrix([[b1], [b2]])\n",
    "        sol = A.solve_right(b)\n",
    "\n",
    "        assert (A1 * sol)[0] == b1\n",
    "        assert (A2 * sol)[0] == b2\n",
    "\n",
    "        secret = sol[0,0]\n",
    "        tex.append(fr' {i+1} и {j+1}: ${latex(A)} \\vec{{x}} = {latex(b)} \\implies \\vec{{x}} = {latex(sol)} \\implies s = {secret}$')\n",
    "        results.append(secret)\n",
    "\n",
    "wrong = [i for i in results if i != s]\n",
    "assert len(wrong) <= len(results) / 2 and (len(set(wrong)) >= 2 or len(set(wrong)) < len(results)/2)\n",
    "\n",
    "imposter = [n for n, i in enumerate(pieces, 1) if i == invalid]\n",
    "assert len(imposter) == 1\n",
    "imposter = imposter[0]\n",
    "tex = '\\n'.join([f'{n}. {i}' for n, i in enumerate(tex, 1)])\n",
    "\n",
    "results"
   ]
  },
  {
   "cell_type": "code",
   "execution_count": 4,
   "id": "5997826c",
   "metadata": {},
   "outputs": [
    {
     "data": {
      "text/markdown": [
       "Секрет при помощи схемы Блэкли разделили между пятью участниками таким образом, что любые двое его могут восстановить.\n",
       "Однако **ровно** один из участников испортил свою долю, причём неизвестно кто.\n",
       "Необходимо восстановить секрет и определеить участника с некорректной долей.\n",
       "\n",
       "Участники назвали следующие гиперплоскости:\n",
       "#task\n",
       "\n",
       "Для вычислений использовалось кольцо $\\\\Z_{#p}$.\n",
       "\n",
       "**Авторское решение**:\n",
       "\n",
       "Переберём все пары участников, для каждой вычислим секрет:\n",
       "#tex\n",
       "\n",
       "Теперь заметим, что $s = #s$ встретилось чаще всего, а значит это и будет правильным секретом.\n",
       "\n",
       "Врёт участник №#imposter\n"
      ],
      "text/plain": [
       "<IPython.core.display.Markdown object>"
      ]
     },
     "metadata": {},
     "output_type": "display_data"
    }
   ],
   "source": [
    "%%markdown\n",
    "Секрет при помощи схемы Блэкли разделили между пятью участниками таким образом, что любые двое его могут восстановить.\n",
    "Однако **ровно** один из участников испортил свою долю, причём неизвестно кто.\n",
    "Необходимо восстановить секрет и определеить участника с некорректной долей.\n",
    "\n",
    "Участники назвали следующие гиперплоскости:\n",
    "#task\n",
    "\n",
    "Для вычислений использовалось кольцо $\\\\Z_{#p}$.\n",
    "\n",
    "**Авторское решение**:\n",
    "\n",
    "Переберём все пары участников, для каждой вычислим секрет:\n",
    "#tex\n",
    "\n",
    "Теперь заметим, что $s = #s$ встретилось чаще всего, а значит это и будет правильным секретом.\n",
    "\n",
    "Врёт участник №#imposter"
   ]
  },
  {
   "cell_type": "markdown",
   "id": "61e2d7a9",
   "metadata": {},
   "source": [
    "# Задание 4"
   ]
  },
  {
   "cell_type": "code",
   "execution_count": 13,
   "id": "6cfb6843",
   "metadata": {},
   "outputs": [
    {
     "data": {
      "text/plain": [
       "(Vector space of dimension 3 over Ring of integers modulo 7, (4, 6, 2))"
      ]
     },
     "execution_count": 13,
     "metadata": {},
     "output_type": "execute_result"
    }
   ],
   "source": [
    "reset()\n",
    "n = 3\n",
    "p = 7\n",
    "\n",
    "F = Integers(p)\n",
    "V = F^n\n",
    "\n",
    "s = V.random_element()\n",
    "(V, s)"
   ]
  },
  {
   "cell_type": "code",
   "execution_count": 14,
   "id": "69002b2b",
   "metadata": {},
   "outputs": [
    {
     "data": {
      "text/plain": [
       "[\n",
       "[3]  [4]  [5]  [6]  [0]  [1]  [2]\n",
       "[3]  [6]  [2]  [5]  [1]  [4]  [0]\n",
       "[0], [2], [4], [6], [1], [3], [5]\n",
       "]"
      ]
     },
     "execution_count": 14,
     "metadata": {},
     "output_type": "execute_result"
    }
   ],
   "source": [
    "point = s\n",
    "\n",
    "planes = []\n",
    "system = []\n",
    "for i in range(n-1):\n",
    "    A = V.random_element()\n",
    "    b = A * point\n",
    "    planes.append(f'{latex(A[0])}x_1 + {latex(A[1])}x_2 + {latex(A[2])}x_3 = {latex(b)}')\n",
    "    system.append((A, [b]))\n",
    "\n",
    "planes = '\\n'.join(f'* $ {i} $' for i in planes)\n",
    "\n",
    "left, right = list(zip(*system))\n",
    "left, right = matrix(left), matrix(right)\n",
    "sol = left.solve_right(right)\n",
    "var, = left.right_kernel().basis()\n",
    "var = matrix(var).T\n",
    "\n",
    "secrets = []\n",
    "for t in F.iterator_range():\n",
    "    sec = sol + t*var\n",
    "    sec.set_immutable()\n",
    "    secrets.append(sec)\n",
    "assert len(set(secrets)) == len(secrets)\n",
    "secrets"
   ]
  },
  {
   "cell_type": "code",
   "execution_count": 15,
   "id": "de1d082c",
   "metadata": {},
   "outputs": [
    {
     "data": {
      "text/markdown": [
       "Человек по неосторожности реализовал схему Блэкли, описанную на [криптовики](http://cryptowiki.net/index.php?title=%D0%A1%D1%85%D0%B5%D0%BC%D0%B0_%D0%91%D0%BB%D1%8D%D0%BA%D0%BB%D0%B8). От схемы из презентации она отличается тем, что секрет распределяется между всеми координатами секретной точки. Засчёт этого, говорится, схема идеальна.\n",
       "\n",
       "Для вычислений использовалось поле $\\ZZ_{7}$.\n",
       "\n",
       "В схеме секрет разделяется так, что лишь трое могут его восстановить. Вам даны две плоскости:\n",
       "* $ 0x_1 + 4x_2 + 1x_3 = 5 $\n",
       "* $ 1x_1 + 0x_2 + 3x_3 = 3 $\n",
       "\n",
       "Необходимо перечислить все 7 точек, в которых может находиться секрет.\n",
       "\n",
       "**Авторское решение**\n",
       "    \n",
       "Составим и решим СЛАУ на координаты точек пересечения:\n",
       "\n",
       "$$\n",
       "\\left(\\begin{array}{rrr}\n",
       "0 & 4 & 1 \\\\\n",
       "1 & 0 & 3\n",
       "\\end{array}\\right) \\vec{x} = \\left(\\begin{array}{r}\n",
       "5 \\\\\n",
       "3\n",
       "\\end{array}\\right) \\implies \\vec{x} = \\left(\\begin{array}{r}\n",
       "3 \\\\\n",
       "3 \\\\\n",
       "0\n",
       "\\end{array}\\right) + t\\left(\\begin{array}{r}\n",
       "1 \\\\\n",
       "3 \\\\\n",
       "2\n",
       "\\end{array}\\right), t \\in \\ZZ_{7}\n",
       "$$\n",
       "\n",
       "Остаётся перебрать все значения $t$ и получить следующие варианты:\n",
       "$$\n",
       "\\vec{x} \\in \\left[\\left(\\begin{array}{r}\n",
       "3 \\\\\n",
       "3 \\\\\n",
       "0\n",
       "\\end{array}\\right), \\left(\\begin{array}{r}\n",
       "4 \\\\\n",
       "6 \\\\\n",
       "2\n",
       "\\end{array}\\right), \\left(\\begin{array}{r}\n",
       "5 \\\\\n",
       "2 \\\\\n",
       "4\n",
       "\\end{array}\\right), \\left(\\begin{array}{r}\n",
       "6 \\\\\n",
       "5 \\\\\n",
       "6\n",
       "\\end{array}\\right), \\left(\\begin{array}{r}\n",
       "0 \\\\\n",
       "1 \\\\\n",
       "1\n",
       "\\end{array}\\right), \\left(\\begin{array}{r}\n",
       "1 \\\\\n",
       "4 \\\\\n",
       "3\n",
       "\\end{array}\\right), \\left(\\begin{array}{r}\n",
       "2 \\\\\n",
       "0 \\\\\n",
       "5\n",
       "\\end{array}\\right)\\right]\n",
       "$$\n"
      ],
      "text/plain": [
       "<IPython.core.display.Markdown object>"
      ]
     },
     "execution_count": 15,
     "metadata": {},
     "output_type": "execute_result"
    }
   ],
   "source": [
    "%%markdown\n",
    "Человек по неосторожности реализовал схему Блэкли, описанную на [криптовики](http://cryptowiki.net/index.php?title=%D0%A1%D1%85%D0%B5%D0%BC%D0%B0_%D0%91%D0%BB%D1%8D%D0%BA%D0%BB%D0%B8). От схемы из презентации она отличается тем, что секрет распределяется между всеми координатами секретной точки. Засчёт этого, говорится, схема идеальна.\n",
    "\n",
    "Для вычислений использовалось поле $\\ZZ_{#p}$.\n",
    "\n",
    "В схеме секрет разделяется так, что лишь трое могут его восстановить. Вам даны две плоскости:\n",
    "#planes\n",
    "\n",
    "Необходимо перечислить все #p точек, в которых может находиться секрет.\n",
    "\n",
    "**Авторское решение**\n",
    "    \n",
    "Составим и решим СЛАУ на координаты точек пересечения:\n",
    "\n",
    "$$\n",
    "#left \\vec{x} = #right \\implies \\vec{x} = #sol + t#var, t \\in \\ZZ_{#p}\n",
    "$$\n",
    "\n",
    "Остаётся перебрать все значения $t$ и получить следующие варианты:\n",
    "$$\n",
    "\\vec{x} \\in #secrets\n",
    "$$"
   ]
  },
  {
   "cell_type": "markdown",
   "id": "fb080011",
   "metadata": {},
   "source": [
    "# Задание 5"
   ]
  },
  {
   "cell_type": "code",
   "execution_count": 176,
   "id": "1f5713cd",
   "metadata": {},
   "outputs": [
    {
     "data": {
      "text/plain": [
       "13"
      ]
     },
     "execution_count": 176,
     "metadata": {},
     "output_type": "execute_result"
    }
   ],
   "source": [
    "reset()\n",
    "k = 3\n",
    "p = random_prime(50, lbound=10)\n",
    "p = 13\n",
    "F = Integers(p)\n",
    "V = F[x]\n",
    "\n",
    "p"
   ]
  },
  {
   "cell_type": "code",
   "execution_count": 177,
   "id": "a0a62dc7",
   "metadata": {},
   "outputs": [
    {
     "data": {
      "text/plain": [
       "(10*x^2 + 10*x, [(1, 7), (2, 8), (3, 3)])"
      ]
     },
     "execution_count": 177,
     "metadata": {},
     "output_type": "execute_result"
    }
   ],
   "source": [
    "f = V.random_element(degree=(k-1, k-1))\n",
    "s = f(0)\n",
    "\n",
    "pieces = []\n",
    "for i in range(k):\n",
    "    pieces.append((i+1, f(i+1)))\n",
    "tex = ', '.join(latex(i) for i in pieces)\n",
    "    \n",
    "f, pieces"
   ]
  },
  {
   "cell_type": "code",
   "execution_count": 178,
   "id": "0fd9c9ee",
   "metadata": {},
   "outputs": [
    {
     "data": {
      "text/plain": [
       "(\n",
       "[1 1 1]  [7]  [ 0]\n",
       "[1 2 4]  [8]  [10]\n",
       "[1 3 9], [3], [10]\n",
       ")"
      ]
     },
     "execution_count": 178,
     "metadata": {},
     "output_type": "execute_result"
    }
   ],
   "source": [
    "system = []\n",
    "for x, y in pieces:\n",
    "    row = []\n",
    "    for power in range(k):\n",
    "        row.append(x**power)\n",
    "    system.append((row, y))\n",
    "A, b = list(zip(*system))\n",
    "A, b = matrix(A), matrix(b).T\n",
    "sol = A \\ b\n",
    "A, b, sol"
   ]
  },
  {
   "cell_type": "code",
   "execution_count": 179,
   "id": "84f626c5",
   "metadata": {},
   "outputs": [],
   "source": [
    "assert f == V.lagrange_polynomial(pieces) == V([i for i, in sol])"
   ]
  },
  {
   "cell_type": "code",
   "execution_count": 180,
   "id": "4e199ac9",
   "metadata": {
    "scrolled": true
   },
   "outputs": [
    {
     "name": "stdout",
     "output_type": "stream",
     "text": [
      "\n",
      "Секрет разделили при помощи схемы Шамира над полем $\\ZZ_{13}$. Нужно его восстановить.\n",
      "\n",
      "Даны следующие точки: $ \\left(1, 7\\right), \\left(2, 8\\right), \\left(3, 3\\right) $\n",
      "    \n",
      "Ответ: $s = 0$, причём $f(x) = 10 x^{2} + 10 x$\n",
      "\n"
     ]
    }
   ],
   "source": [
    "%%markdown\n",
    "\n",
    "Секрет разделили при помощи схемы Шамира над полем $\\ZZ_{#p}$. Нужно его восстановить.\n",
    "\n",
    "Даны следующие точки: $ #tex $\n",
    "    \n",
    "Ответ: $s = #s$, причём $f(x) = #f$"
   ]
  },
  {
   "cell_type": "markdown",
   "id": "a21d0473",
   "metadata": {},
   "source": [
    "# Задание 6"
   ]
  },
  {
   "cell_type": "code",
   "execution_count": 89,
   "id": "13da0af7",
   "metadata": {},
   "outputs": [
    {
     "data": {
      "text/plain": [
       "(3, 64)"
      ]
     },
     "execution_count": 89,
     "metadata": {},
     "output_type": "execute_result"
    }
   ],
   "source": [
    "reset()\n",
    "k = randint(3,4)\n",
    "p = 2^randint(4,8)\n",
    "F = Integers(p)\n",
    "V = F[x]\n",
    "\n",
    "k, p"
   ]
  },
  {
   "cell_type": "code",
   "execution_count": 90,
   "id": "d34767e7",
   "metadata": {},
   "outputs": [
    {
     "data": {
      "text/plain": [
       "(19*x^3 + 30*x^2 + 2*x + 41, [(2, 61), (3, 62)])"
      ]
     },
     "execution_count": 90,
     "metadata": {},
     "output_type": "execute_result"
    }
   ],
   "source": [
    "f = V.random_element(degree=(k, k))\n",
    "s = f(0)\n",
    "\n",
    "pieces = []\n",
    "for i in range(k):\n",
    "    pieces.append((i+1, f(i+1)))\n",
    "pieces = pieces[1:]\n",
    "tex = ', '.join(latex(i) for i in pieces)\n",
    "poly = 'c_0 + c_1x' + ''.join(f' + c_{i}x^{i}' for i in range(2,k))\n",
    "f, pieces"
   ]
  },
  {
   "cell_type": "code",
   "execution_count": 91,
   "id": "0866408b",
   "metadata": {},
   "outputs": [
    {
     "data": {
      "text/plain": [
       "(\n",
       "               [59]  [   1]\n",
       "[1 2 4]  [61]  [ 1]  [-5/6]\n",
       "[1 3 9], [62], [ 0], [ 1/6]\n",
       ")"
      ]
     },
     "execution_count": 91,
     "metadata": {},
     "output_type": "execute_result"
    }
   ],
   "source": [
    "system = []\n",
    "for x, y in pieces:\n",
    "    row = []\n",
    "    for power in range(k):\n",
    "        row.append(QQ(x**power))\n",
    "    system.append((row, QQ(y)))\n",
    "\n",
    "A, b = list(zip(*system))\n",
    "A, b = matrix(A), matrix(b).T\n",
    "sol = A.solve_right(b)\n",
    "sol_in_f = sol.change_ring(F)\n",
    "var, = A.right_kernel().basis()\n",
    "var = matrix(var).T\n",
    "A, b, sol, var"
   ]
  },
  {
   "cell_type": "code",
   "execution_count": 92,
   "id": "f9f71e41",
   "metadata": {},
   "outputs": [
    {
     "data": {
      "text/plain": [
       "6"
      ]
     },
     "execution_count": 92,
     "metadata": {},
     "output_type": "execute_result"
    }
   ],
   "source": [
    "divisable_by = 1 / gcd([i for i, in var])\n",
    "assert divisable_by.is_integer()\n",
    "is_even = 'чётно' if divisable_by % 2 == 0 else 'нечётно'\n",
    "secret_even = 'чётен' if s % 2 == 0 else 'нечётен'\n",
    "divisable_by\n",
    "#assert int(s) % int(divisable_by) == 0, f'Secret is {s} not div by {divisable_by}'"
   ]
  },
  {
   "cell_type": "code",
   "execution_count": 93,
   "id": "8099a305",
   "metadata": {},
   "outputs": [
    {
     "name": "stdout",
     "output_type": "stream",
     "text": [
      "\n",
      "Для реализации схемы Шамира в качестве поля взяли $\\ZZ_{64}$.\n",
      "Восстановить секрет могут $3$ участников, но вам известны лишь $3 - 1$ точка: $\\left(2, 61\\right), \\left(3, 62\\right)$\n",
      "\n",
      "Необходимо выяснить чётность секрета.\n",
      "    \n",
      "**Авторское решение**\n",
      "    \n",
      "Пусть $y = c_0 + c_1x + c_2x^2$\n",
      "\n",
      "Составим СЛАУ и решим её:\n",
      "$$\n",
      "\\left(\\begin{array}{rrr}\n",
      "1 & 2 & 4 \\\\\n",
      "1 & 3 & 9\n",
      "\\end{array}\\right) \\vec{c} = \\left(\\begin{array}{r}\n",
      "61 \\\\\n",
      "62\n",
      "\\end{array}\\right) \\implies \\vec{c} = \\left(\\begin{array}{r}\n",
      "59 \\\\\n",
      "1 \\\\\n",
      "0\n",
      "\\end{array}\\right) + t\\left(\\begin{array}{r}\n",
      "1 \\\\\n",
      "-\\frac{5}{6} \\\\\n",
      "\\frac{1}{6}\n",
      "\\end{array}\\right)\n",
      "$$\n",
      "Здесь видно, что $t$ должно делиться на $ 6 $, иначе результат не будет представим в кольце вычетов.\n",
      "Следовательно $t$ будет чётно, а значит сам секрет будет нечётен\n",
      "    \n",
      "P.S. Секрет был $s=41$\n",
      "\n"
     ]
    }
   ],
   "source": [
    "%%markdown\n",
    "\n",
    "Для реализации схемы Шамира в качестве поля взяли $\\ZZ_{#p}$.\n",
    "Восстановить секрет могут $#k$ участников, но вам известны лишь $#k - 1$ точка: $#tex$\n",
    "\n",
    "Необходимо выяснить чётность секрета.\n",
    "    \n",
    "**Авторское решение**\n",
    "    \n",
    "Пусть $y = #poly$\n",
    "\n",
    "Составим СЛАУ и решим её:\n",
    "$$\n",
    "#A \\vec{c} = #b \\implies \\vec{c} = #sol + t#var\n",
    "$$\n",
    "Здесь видно, что $t$ должно делиться на $ #divisable_by $, иначе результат не будет представим в кольце вычетов.\n",
    "Следовательно $t$ будет #is_even, а значит сам секрет будет #secret_even\n",
    "    \n",
    "P.S. Секрет был $s=#s$"
   ]
  },
  {
   "cell_type": "markdown",
   "id": "9713d109",
   "metadata": {},
   "source": [
    "# Задание 7"
   ]
  },
  {
   "cell_type": "code",
   "execution_count": 58,
   "id": "9b6caebc",
   "metadata": {},
   "outputs": [
    {
     "data": {
      "text/plain": [
       "(47, 33)"
      ]
     },
     "execution_count": 58,
     "metadata": {},
     "output_type": "execute_result"
    }
   ],
   "source": [
    "reset()\n",
    "k = 4\n",
    "#p = random_prime(50, lbound=10)\n",
    "p = 47\n",
    "F = Integers(p)\n",
    "V = F[x]\n",
    "dy = F.random_element()\n",
    "\n",
    "p, dy"
   ]
  },
  {
   "cell_type": "code",
   "execution_count": 59,
   "id": "082a5274",
   "metadata": {},
   "outputs": [
    {
     "data": {
      "text/plain": [
       "(3*x^3 + 44*x^2 + 9*x + 11, [(1, 20), (2, 41), (3, 45), (4, 3)])"
      ]
     },
     "execution_count": 59,
     "metadata": {},
     "output_type": "execute_result"
    }
   ],
   "source": [
    "f = V.random_element(degree=(k-1, k-1))\n",
    "s = f(0)\n",
    "\n",
    "pieces = []\n",
    "for i in range(k):\n",
    "    pieces.append((i+1, f(i+1)))\n",
    "tex = ', '.join(latex(i) for i in pieces)\n",
    "f, pieces"
   ]
  },
  {
   "cell_type": "code",
   "execution_count": 60,
   "id": "0362e398",
   "metadata": {},
   "outputs": [
    {
     "data": {
      "text/plain": [
       "((2, 41), [(1, 0), (3, 0), (4, 0), (0, 33)], 9*x^3 + 22*x^2 + 30*x + 33)"
      ]
     },
     "execution_count": 60,
     "metadata": {},
     "output_type": "execute_result"
    }
   ],
   "source": [
    "to_change = choice(pieces)\n",
    "\n",
    "points = {x: 0 for x,_ in pieces}\n",
    "del points[to_change[0]]\n",
    "others = ', '.join([str(i) for i in points.keys()])\n",
    "points[F(0)] = dy\n",
    "points = list(points.items())\n",
    "\n",
    "modifier = V.lagrange_polynomial(points)\n",
    "myX, myY = to_change\n",
    "diff = modifier(to_change[0])\n",
    "newY = to_change[1] + diff\n",
    "\n",
    "for i in range(0, k+1):\n",
    "    if i == 0:\n",
    "        assert modifier(i) == dy\n",
    "    elif i != myX:\n",
    "        assert modifier(i) == 0\n",
    "\n",
    "(to_change, points, modifier)"
   ]
  },
  {
   "cell_type": "code",
   "execution_count": 61,
   "id": "b9b61e83",
   "metadata": {},
   "outputs": [
    {
     "data": {
      "text/plain": [
       "([(1, 20), (2, 12), (3, 45), (4, 3)], 12*x^3 + 19*x^2 + 39*x + 44)"
      ]
     },
     "execution_count": 61,
     "metadata": {},
     "output_type": "execute_result"
    }
   ],
   "source": [
    "patched = {x: y for x,y in pieces}\n",
    "patched[myX] = newY\n",
    "patched = list(patched.items())\n",
    "\n",
    "restored = V.lagrange_polynomial(patched)\n",
    "found = restored(0)\n",
    "assert found == s+dy\n",
    "patched, restored"
   ]
  },
  {
   "cell_type": "code",
   "execution_count": 57,
   "id": "65c6bcff",
   "metadata": {},
   "outputs": [
    {
     "name": "stdout",
     "output_type": "stream",
     "text": [
      "\n",
      "При помощи схемы Шамира был разделён секрет. Вам, как участнику схемы, досталась точка $#to_change$.\n",
      "Точки других участников вы точно не знаете, но уверены, что они имеют $x\\in\\{ #others \\}$.\n",
      "    \n",
      "Необходимо, чтобы в результате восстановления значение секрета изменилось на $#dy$.\n",
      "Какую точку вы должны назвать?\n",
      "    \n",
      "Для вычислений использовалось поле $\\ZZ_{47}$\n",
      "\n",
      "**Решение:**\n",
      "\n",
      "Проведём многочлен через точки $\\text{\\texttt{<function{ }point{ }at{ }0x7f5bc9450e50>}}$: в нуле равен $#dy$, в точках остальных участников равен нулю.\n",
      "Получим многочлен $#modifier$ (искать целиком не обязательно на самом деле)\n",
      "\n",
      "Нам нужно только его значение в точке $x=#myX$; там он равен $\\text{\\texttt{<function{ }derivative{ }at{ }0x7f5bc93d7d30>}}$.\n",
      "    \n",
      "Теперь прибавим это к известному выданному $y$ и получим $y' = #myY + \\text{\\texttt{<function{ }derivative{ }at{ }0x7f5bc93d7d30>}} = #newY$.\n",
      "    \n",
      "Значит нужно назвать точку $(#myX, #newY)$\n",
      "    \n",
      "P.S. **Процесс восстановления**:\n",
      "\n",
      "Через точки $\\left[\\left(\\left(8,\\,19\\right), 10\\right), \\left(\\left(31,\\,22\\right), 17\\right), \\left(\\left(11,\\,15\\right), 16\\right), \\left(\\left(22,\\,8\\right), 14\\right), \\left(\\left(4,\\,6\\right), 24\\right)\\right]$ проходит $f(x) = #f$\n",
      "\n",
      "Но в результате атаки через $#patched$ был проведён $f'(x) = #restored$.\n",
      "    \n",
      "Получили: $s = f(0) = #s$ и $s = f'(0) = #found$, что и требовалось\n",
      "\n"
     ]
    }
   ],
   "source": [
    "%%markdown\n",
    "\n",
    "При помощи схемы Шамира был разделён секрет. Вам, как участнику схемы, досталась точка $#to_change$.\n",
    "Точки других участников вы точно не знаете, но уверены, что они имеют $x\\in\\{ #others \\}$.\n",
    "    \n",
    "Необходимо, чтобы в результате восстановления значение секрета изменилось на $#dy$.\n",
    "Какую точку вы должны назвать?\n",
    "\n",
    "Для вычислений можете использовать поле $\\ZZ_{47}$, или любое другое в котором эта задача имеет смысл.\n",
    "\n",
    "**Решение:**\n",
    "\n",
    "Проведём многочлен через точки $#points$: в нуле равен $#dy$, в точках остальных участников равен нулю.\n",
    "Получим многочлен $#modifier$ (искать целиком не обязательно на самом деле)\n",
    "\n",
    "Нам нужно только его значение в точке $x=#myX$; там он равен $#diff$.\n",
    "    \n",
    "Теперь прибавим это к известному выданному $y$ и получим $y' = #myY + #diff = #newY$.\n",
    "    \n",
    "Значит нужно назвать точку $(#myX, #newY)$\n",
    "    \n",
    "P.S. **Процесс восстановления**:\n",
    "\n",
    "Через точки $#pieces$ проходит $f(x) = #f$\n",
    "\n",
    "Но в результате атаки через $#patched$ был проведён $f'(x) = #restored$.\n",
    "    \n",
    "Получили: $s = f(0) = #s$ и $s = f'(0) = #found$, что и требовалось"
   ]
  },
  {
   "cell_type": "markdown",
   "id": "b420104c",
   "metadata": {},
   "source": [
    "# Задание 8"
   ]
  },
  {
   "cell_type": "code",
   "execution_count": 259,
   "id": "c0781231",
   "metadata": {},
   "outputs": [],
   "source": [
    "reset()\n",
    "p = random_prime(50, lbound=10)\n",
    "F = Integers(p)"
   ]
  },
  {
   "cell_type": "code",
   "execution_count": 277,
   "id": "0096bcb3",
   "metadata": {},
   "outputs": [],
   "source": [
    "def random_formula(allowed_vars, width=(2,3,2), operators=None):\n",
    "    if len(width) <= 1:\n",
    "        var = choice(list(allowed_vars))\n",
    "        allowed_vars.remove(var)\n",
    "        return [var]\n",
    "    width, *next_width = width\n",
    "    if isinstance(width, tuple):\n",
    "        width = randint(*width)\n",
    "    allowed = set(allowed_vars)\n",
    "    parts = [random_formula(allowed,next_width,operators) for i in range(width)]\n",
    "    joined = parts[0]\n",
    "    for i in parts[1:]:\n",
    "        if operators:\n",
    "            op = operators.pop()\n",
    "        else:\n",
    "            op = choice(('&', '|', 'THRESHOLD'))\n",
    "        joined = [op, joined, i]\n",
    "    return joined\n",
    "\n",
    "def as_formula(tree):\n",
    "    recovered = sage.logic.logicparser.recover_formula(tree)\n",
    "    return propcalc.formula(recovered)\n",
    "\n",
    "def distribute_secret(secret, tree, distribution, definitions, variables):\n",
    "    if len(tree) == 1:\n",
    "        participant, = tree\n",
    "        arr = distribution.get(participant, [])\n",
    "        arr.append(secret)\n",
    "        distribution[participant] = arr\n",
    "    else:\n",
    "        op, *children = tree\n",
    "        if op == '&':\n",
    "            for i in children:\n",
    "                distribute_secret(secret, i, distribution, definitions, variables)\n",
    "        elif op == '|':\n",
    "            pieces = []\n",
    "            values = []\n",
    "            for _ in children:\n",
    "                name = 's_{}'.format(len(variables) + 1)\n",
    "                pieces.append(name)\n",
    "                if len(pieces) == len(children):\n",
    "                    val = secret[1] - sum(values)\n",
    "                else:\n",
    "                    val = F.random_element()\n",
    "                values.append(val)\n",
    "                variables.append((name, val))\n",
    "            assert sum(values) == secret[1]\n",
    "            assert len(pieces) == len(values) == len(children)\n",
    "            definitions.append('{} = {}'.format(secret[0], ' + '.join(pieces)))\n",
    "            \n",
    "            for name, val, child in zip(pieces, values, children):\n",
    "                distribute_secret((name, val), child, distribution, definitions, variables)\n",
    "        elif op == 'THRESHOLD':\n",
    "            threshold, *children = children\n",
    "            # TODO\n",
    "        else:\n",
    "            assert False, f'Unknown op: {op} ({children})'\n",
    "    return (distribution, definitions, variables)"
   ]
  },
  {
   "cell_type": "code",
   "execution_count": 316,
   "id": "a2d5217d",
   "metadata": {},
   "outputs": [],
   "source": [
    "f = random_formula(\n",
    "    {'a', 'b', 'c', 'd'},\n",
    "    width=( (3), (2,3), (2) ),\n",
    "    operators=['&', '|', '&', '|', '&', '|']\n",
    ")\n",
    "given_formula = as_formula(f)\n",
    "s = F.random_element()\n",
    "distribution, definitions, variables = distribute_secret(('s', s), f, {}, [], [])\n",
    "\n",
    "result = 'Секретная информация:'\n",
    "for i in ('a', 'b', 'c', 'd'):\n",
    "    knowledge = ', '.join(f'${var} = {val}$' for var, val in distribution[i])\n",
    "    result += f'\\n- Участник {i} знает: {knowledge}'\n",
    "\n",
    "result += '\\nПеременные объявлены так, что:'\n",
    "for i in definitions:\n",
    "    result += f'\\n- ${i}$'\n",
    "\n",
    "result += '\\nИ тогда:' + ', '.join(f'${var} = {val}$' for var, val in variables)"
   ]
  },
  {
   "cell_type": "code",
   "execution_count": 317,
   "id": "4a77430d",
   "metadata": {},
   "outputs": [
    {
     "name": "stdout",
     "output_type": "stream",
     "text": [
      "Есть четыре участника: $a, b, c, d$. Вам дана булева формула $(((d\\vee c)\\wedge b)\\wedge (d\\vee c))\\wedge ((a\\wedge c)\\vee d)$.\n",
      "Ваша задача — разделить секрет $s = 0$ при помощи простейшей $(n, n)$-схемы над полем $\\ZZ_{47}$\n",
      "таким образом, чтобы его могли восстановить тогда и только тогда, когда эта функция,\n",
      "будучи применена к присутствующим участникам, принимает значение истины.\n",
      "\n",
      "Необходимо описать какие числа получит каждый из участников и описать как происходит восстановление секрета.\n",
      "    \n",
      "**Возможный ответ:**\n",
      "Секретная информация:\n",
      "- Участник a знает: $s_5 = 44$\n",
      "- Участник b знает: $s = 0$\n",
      "- Участник c знает: $s_2 = 11$, $s_4 = 27$, $s_5 = 44$\n",
      "- Участник d знает: $s_1 = 36$, $s_3 = 20$, $s_6 = 3$\n",
      "Переменные объявлены так, что:\n",
      "- $s = s_1 + s_2$\n",
      "- $s = s_3 + s_4$\n",
      "- $s = s_5 + s_6$\n",
      "И тогда:$s_1 = 36$, $s_2 = 11$, $s_3 = 20$, $s_4 = 27$, $s_5 = 44$, $s_6 = 3$\n",
      "\n"
     ]
    }
   ],
   "source": [
    "%%markdown\n",
    "Есть четыре участника: $a, b, c, d$. Вам дана булева формула $#given_formula$.\n",
    "Ваша задача — разделить секрет $s = #s$ при помощи простейшей $(n, n)$-схемы над полем $\\ZZ_{#p}$\n",
    "таким образом, чтобы его могли восстановить тогда и только тогда, когда эта функция,\n",
    "будучи применена к присутствующим участникам, принимает значение истины.\n",
    "\n",
    "Необходимо описать какие числа получит каждый из участников и описать как происходит восстановление секрета.\n",
    "    \n",
    "**Возможный ответ:**\n",
    "#result"
   ]
  },
  {
   "cell_type": "markdown",
   "id": "5176b1b0",
   "metadata": {},
   "source": [
    "## Задание 9"
   ]
  },
  {
   "cell_type": "code",
   "execution_count": 67,
   "id": "03d9e84f",
   "metadata": {},
   "outputs": [
    {
     "data": {
      "text/plain": [
       "(\n",
       "                                            [232 239 255  27  92 112]\n",
       "                                            [  3  50 197 104  51   0]\n",
       "                                            [  4  96  41 220  56 121]\n",
       "'crypto', [99, 114, 121, 112, 116, 111], 4, [116 241 140  17 173 134]\n",
       ")"
      ]
     },
     "execution_count": 67,
     "metadata": {},
     "output_type": "execute_result"
    }
   ],
   "source": [
    "secret = 'crypto' #choice(['CS HSE', 'ba/cs', 'crypto', 'maths', 'C#>Java', 'Botay'])\n",
    "n = randint(3, 5)\n",
    "F = Integers(256)\n",
    "\n",
    "splitted = [ord(i) for i in secret]\n",
    "results = []\n",
    "for i in range(n-1):\n",
    "    participant = []\n",
    "    for j in splitted:\n",
    "        participant.append(F.random_element())\n",
    "    results.append(participant)\n",
    "last = []\n",
    "for j, c in enumerate(splitted):\n",
    "    last.append(c - sum(row[j] for row in results))\n",
    "results.append(last)\n",
    "\n",
    "results = matrix(results)\n",
    "\n",
    "(secret, splitted, n, results)"
   ]
  },
  {
   "cell_type": "code",
   "execution_count": 68,
   "id": "19834d85",
   "metadata": {},
   "outputs": [
    {
     "name": "stdout",
     "output_type": "stream",
     "text": [
      "Вам дана ASCII строка: `crypto`.\n",
      "Необходимо её при помощи простейшей $(n,n)$ схемы разделить между $n=4$ участниками.\n",
      "\n",
      "**Использовать для вычислений модуль более $10000$ не допускается.**\n",
      "\n",
      "Выпишите какой набор чисел получит каждый из участников.\n",
      "\n",
      "**Авторское решение:**\n",
      "Переведём строку в байты по таблице ASCII: $\\left[99, 114, 121, 112, 116, 111\\right]$.\n",
      "    \n",
      "Теперь разделим: $$\\left(\\begin{array}{rrrrrr}\n",
      "232 & 239 & 255 & 27 & 92 & 112 \\\\\n",
      "3 & 50 & 197 & 104 & 51 & 0 \\\\\n",
      "4 & 96 & 41 & 220 & 56 & 121 \\\\\n",
      "116 & 241 & 140 & 17 & 173 & 134\n",
      "\\end{array}\\right)$$\n",
      "    \n",
      "Каждый участник получает одну из строк таблицы, и сумма элементов в каждом столбце даёт соответсвующий символ строки.\n",
      "\n"
     ]
    }
   ],
   "source": [
    "%%markdown\n",
    "Вам дана ASCII строка: `#secret`.\n",
    "Необходимо её при помощи простейшей $(n,n)$ схемы разделить между $n=#n$ участниками.\n",
    "\n",
    "**Использовать для вычислений модуль более $10000$ не допускается.**\n",
    "\n",
    "Выпишите какой набор чисел получит каждый из участников.\n",
    "\n",
    "**Авторское решение:**\n",
    "Переведём строку в байты по таблице ASCII: $#splitted$.\n",
    "    \n",
    "Теперь разделим: $$#results$$\n",
    "    \n",
    "Каждый участник получает одну из строк таблицы, и сумма элементов в каждом столбце даёт соответсвующий символ строки."
   ]
  },
  {
   "cell_type": "code",
   "execution_count": null,
   "id": "7b6242e4",
   "metadata": {},
   "outputs": [],
   "source": []
  }
 ],
 "metadata": {
  "kernelspec": {
   "display_name": "SageMath 9.4",
   "language": "sage",
   "name": "sagemath"
  },
  "language_info": {
   "codemirror_mode": {
    "name": "ipython",
    "version": 3
   },
   "file_extension": ".py",
   "mimetype": "text/x-python",
   "name": "python",
   "nbconvert_exporter": "python",
   "pygments_lexer": "ipython3",
   "version": "3.10.1"
  }
 },
 "nbformat": 4,
 "nbformat_minor": 5
}
